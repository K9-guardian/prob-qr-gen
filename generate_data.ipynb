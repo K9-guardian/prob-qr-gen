{
 "cells": [
  {
   "cell_type": "code",
   "execution_count": 1,
   "metadata": {},
   "outputs": [],
   "source": [
    "import sys\n",
    "sys.path.insert(0, 'python_qrcode')\n",
    "import qrcode"
   ]
  },
  {
   "cell_type": "code",
   "execution_count": null,
   "metadata": {},
   "outputs": [],
   "source": [
    "qr = qrcode.QRCode(\n",
    "    border=10,\n",
    "    error_correction=qrcode.constants.ERROR_CORRECT_M,\n",
    "    box_size=20\n",
    ")\n",
    "qr.add_data(\"http://www.u-tokai.ac.jp/\", real=True)\n",
    "img = qr.make_image(fill_color=(0, 0, 0), back_color=(255, 255, 255))\n",
    "img.save(\"real_qr.png\")"
   ]
  },
  {
   "cell_type": "code",
   "execution_count": 3,
   "metadata": {},
   "outputs": [],
   "source": [
    "qr.clear()"
   ]
  },
  {
   "cell_type": "code",
   "execution_count": 4,
   "metadata": {},
   "outputs": [],
   "source": [
    "qr.add_data(\"http://www.u-yokai.ac.jp/\", real=True)\n",
    "img = qr.make_image(fill_color=(0, 0, 0), back_color=(255, 255, 255))\n",
    "img.save(\"fake_qr.png\")"
   ]
  },
  {
   "cell_type": "code",
   "execution_count": 5,
   "metadata": {},
   "outputs": [],
   "source": [
    "qr.clear()"
   ]
  },
  {
   "cell_type": "code",
   "execution_count": 6,
   "metadata": {},
   "outputs": [
    {
     "name": "stdout",
     "output_type": "stream",
     "text": [
      "dd of 17 with tol 8\n",
      "diff 1 at idx 15 for block 0\n",
      "dd of 17 with tol 8\n",
      "diff 1 at idx 15 for block 0\n",
      "dd of 17 with tol 8\n",
      "diff 1 at idx 15 for block 0\n",
      "dd of 17 with tol 8\n",
      "diff 1 at idx 15 for block 0\n",
      "dd of 17 with tol 8\n",
      "diff 1 at idx 15 for block 0\n",
      "dd of 17 with tol 8\n",
      "diff 1 at idx 15 for block 0\n",
      "dd of 17 with tol 8\n",
      "diff 1 at idx 15 for block 0\n",
      "dd of 17 with tol 8\n",
      "diff 1 at idx 15 for block 0\n",
      "dd of 17 with tol 8\n",
      "diff 1 at idx 15 for block 0\n",
      "((110, 200), (119, 209)) ((113, 203), (115, 205))\n"
     ]
    }
   ],
   "source": [
    "qr.add_data(\"http://www.u-tokai.ac.jp/\", real=True)\n",
    "qr.add_data(\"http://www.u-yokai.ac.jp/\", real=False)\n",
    "img = qr.make_image(fill_color=(0, 0, 0), back_color=(255, 255, 255))\n",
    "img.save(\"prob_qr.png\")"
   ]
  },
  {
   "cell_type": "code",
   "execution_count": null,
   "metadata": {},
   "outputs": [],
   "source": []
  }
 ],
 "metadata": {
  "kernelspec": {
   "display_name": "Python 3",
   "language": "python",
   "name": "python3"
  },
  "language_info": {
   "codemirror_mode": {
    "name": "ipython",
    "version": 3
   },
   "file_extension": ".py",
   "mimetype": "text/x-python",
   "name": "python",
   "nbconvert_exporter": "python",
   "pygments_lexer": "ipython3",
   "version": "3.10.12"
  }
 },
 "nbformat": 4,
 "nbformat_minor": 2
}
