{
 "cells": [
  {
   "cell_type": "code",
   "execution_count": 1,
   "metadata": {},
   "outputs": [],
   "source": [
    "import sys\n",
    "sys.path.insert(0, 'python_qrcode')\n",
    "import qrcode"
   ]
  },
  {
   "cell_type": "code",
   "execution_count": null,
   "metadata": {},
   "outputs": [],
   "source": [
    "qr = qrcode.QRCode(\n",
    "    border=10,\n",
    "    error_correction=qrcode.constants.ERROR_CORRECT_M,\n",
    "    box_size=40\n",
    ")\n",
    "qr.add_data(\"http://www.u-tokai.ac.jp/\", real=True)\n",
    "img = qr.make_image(fill_color=(0, 0, 0), back_color=(255, 255, 255))\n",
    "img.save(\"real_qr.png\")"
   ]
  },
  {
   "cell_type": "code",
   "execution_count": 3,
   "metadata": {},
   "outputs": [],
   "source": [
    "qr.clear()\n",
    "qr.add_data(\"http://www.u-yokai.ac.jp/\", real=True)\n",
    "img = qr.make_image(fill_color=(0, 0, 0), back_color=(255, 255, 255))\n",
    "img.save(\"fake_qr.png\")"
   ]
  },
  {
   "cell_type": "code",
   "execution_count": 4,
   "metadata": {},
   "outputs": [
    {
     "name": "stdout",
     "output_type": "stream",
     "text": [
      "dd of 17 with tol 8\n",
      "data ecs [36, 111, 113, 168, 84, 82, 21, 223, 143, 148, 4, 29, 86, 247, 145, 151]\n",
      "fake ecs [207, 252, 132, 239, 96, 205, 117, 61, 38, 171, 42, 232, 175, 206, 111, 215]\n",
      "diffs [6, 4, 6, 4, 3, 6, 2, 4, 4, 6, 4, 6, 6, 4, 7, 1]\n",
      "diff 1 at idx 15 for block 0\n"
     ]
    }
   ],
   "source": [
    "qr.clear()\n",
    "qr.add_data(\"http://www.u-tokai.ac.jp/\", real=True)\n",
    "qr.add_data(\"http://www.u-yokai.ac.jp/\", real=False)\n",
    "img = qr.make_image(fill_color=(0, 0, 0), back_color=(255, 255, 255))\n",
    "img.save(\"prob_qr.png\")"
   ]
  },
  {
   "cell_type": "code",
   "execution_count": null,
   "metadata": {},
   "outputs": [],
   "source": []
  }
 ],
 "metadata": {
  "kernelspec": {
   "display_name": "Python 3",
   "language": "python",
   "name": "python3"
  },
  "language_info": {
   "codemirror_mode": {
    "name": "ipython",
    "version": 3
   },
   "file_extension": ".py",
   "mimetype": "text/x-python",
   "name": "python",
   "nbconvert_exporter": "python",
   "pygments_lexer": "ipython3",
   "version": "3.10.12"
  }
 },
 "nbformat": 4,
 "nbformat_minor": 2
}
